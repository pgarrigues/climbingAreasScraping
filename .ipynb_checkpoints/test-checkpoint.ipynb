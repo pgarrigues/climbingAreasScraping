{
 "cells": [
  {
   "cell_type": "code",
   "execution_count": 235,
   "metadata": {},
   "outputs": [],
   "source": [
    "with open('spots.csv', 'a') as outf:\n",
    "    response = requests.get(url)\n",
    "    if response.ok:\n",
    "        soup = BeautifulSoup(response.text, 'lxml')\n",
    "        spot = soup.find('h1')\n",
    "        pays = soup.find('h2').find('a', {'class': 'schema-lie'})\n",
    "        region = soup.find('h2').find('a', {'class': ''})\n",
    "        infoSupplémentaires = soup.findAll('span', {'class': 'valeurFalaise'})\n",
    "        outf.write(spot.text +', '\n",
    "                   +pays.text+', '\n",
    "                   +region.text+', '\n",
    "                   +infoSupplémentaires[0].text+', '\n",
    "                   +infoSupplémentaires[1].text+', '\n",
    "                   +infoSupplémentaires[2].text+', '\n",
    "                   +infoSupplémentaires[3].text+', '\n",
    "                   +infoSupplémentaires[4].text+'\\n')"
   ]
  }
 ],
 "metadata": {
  "kernelspec": {
   "display_name": "Python 3",
   "language": "python",
   "name": "python3"
  },
  "language_info": {
   "codemirror_mode": {
    "name": "ipython",
    "version": 3
   },
   "file_extension": ".py",
   "mimetype": "text/x-python",
   "name": "python",
   "nbconvert_exporter": "python",
   "pygments_lexer": "ipython3",
   "version": "3.8.3"
  }
 },
 "nbformat": 4,
 "nbformat_minor": 4
}
