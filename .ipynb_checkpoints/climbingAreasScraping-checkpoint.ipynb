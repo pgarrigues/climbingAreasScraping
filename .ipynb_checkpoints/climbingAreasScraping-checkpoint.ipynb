{
 "cells": [
  {
   "cell_type": "markdown",
   "metadata": {},
   "source": [
    "### Climbing areas scraping"
   ]
  },
  {
   "cell_type": "markdown",
   "metadata": {},
   "source": [
    "Le but est de récupérer les spots d'escalade, les cotations, l'exposition et d'autres infos."
   ]
  },
  {
   "cell_type": "markdown",
   "metadata": {},
   "source": [
    "**Objectif** : Récupérer les données sur *grimper.com*"
   ]
  },
  {
   "cell_type": "code",
   "execution_count": 44,
   "metadata": {},
   "outputs": [],
   "source": [
    "# importation des librairies\n",
    "import requests\n",
    "from bs4 import BeautifulSoup\n",
    "import csv"
   ]
  },
  {
   "cell_type": "markdown",
   "metadata": {},
   "source": [
    "1ère étape : récupération des liens"
   ]
  },
  {
   "cell_type": "code",
   "execution_count": 45,
   "metadata": {},
   "outputs": [],
   "source": [
    "url = 'https://www.grimper.com/site-escalade-france/1'"
   ]
  },
  {
   "cell_type": "code",
   "execution_count": 46,
   "metadata": {},
   "outputs": [],
   "source": [
    "response = requests.get(url)"
   ]
  },
  {
   "cell_type": "code",
   "execution_count": 47,
   "metadata": {},
   "outputs": [
    {
     "name": "stdout",
     "output_type": "stream",
     "text": [
      "<Response [200]>\n"
     ]
    }
   ],
   "source": [
    "# on check le résultat\n",
    "if response.ok:\n",
    "    print(response)"
   ]
  },
  {
   "cell_type": "markdown",
   "metadata": {},
   "source": [
    "Tout est ok !"
   ]
  },
  {
   "cell_type": "code",
   "execution_count": 48,
   "metadata": {},
   "outputs": [],
   "source": [
    "## récupération des liens"
   ]
  },
  {
   "cell_type": "code",
   "execution_count": 49,
   "metadata": {},
   "outputs": [
    {
     "name": "stdout",
     "output_type": "stream",
     "text": [
      "18\n"
     ]
    }
   ],
   "source": [
    "if response.ok:\n",
    "    soup = BeautifulSoup(response.text, 'lxml')\n",
    "    \n",
    "    ## divisions dans lesquels on retrouve les liens des spots :\n",
    "    divs = soup.findAll('div', {'class': 'thumbs-stations'})\n",
    "    ## on vérifie le nombre :\n",
    "    print(len(divs))"
   ]
  },
  {
   "cell_type": "markdown",
   "metadata": {},
   "source": [
    "OK on continue"
   ]
  },
  {
   "cell_type": "code",
   "execution_count": 50,
   "metadata": {},
   "outputs": [
    {
     "name": "stdout",
     "output_type": "stream",
     "text": [
      "<div class=\"thumbs-stations\"> <a href=\"site-escalade-ablon\" ref=\"#\"> <img alt=\"marc daviet ablon\" height=\"200\" src=\"media/guide_falaises/sites/marc_daviet_ablon__crop_300x200.jpg\" title=\"marc daviet ablon\" width=\"300\"/></a> </div>\n",
      "<div class=\"thumbs-stations\"> <a href=\"site-escalade-ailefroide\" ref=\"#\"> <img alt=\"ailefroide escalade 5\" height=\"200\" src=\"media/guide_falaises/sites/ailefroide_escalade_5__crop_300x200.jpg\" title=\"ailefroide escalade 5\" width=\"300\"/></a> </div>\n",
      "<div class=\"thumbs-stations\"> <a href=\"site-escalade-annot\" ref=\"#\"> <img alt=\"annot-fred-oddo-dans-6c\" height=\"200\" src=\"media/guide_falaises/sites/annot-fred-oddo-dans-6c__crop_300x200.jpg\" title=\"annot-fred-oddo-dans-6c\" width=\"300\"/></a> </div>\n",
      "<div class=\"thumbs-stations\"> <a href=\"site-escalade-arudy\" ref=\"#\"> <img alt=\"falaise\" height=\"200\" src=\"media/guide_falaises/sites/falaise__crop_300x200.jpg\" title=\"falaise\" width=\"300\"/></a> </div>\n",
      "<div class=\"thumbs-stations\"> <a href=\"site-escalade-autoire\" ref=\"#\"> <img alt=\"dr autoire\" height=\"200\" src=\"media/guide_falaises/sites/dr_autoire__crop_300x200.jpg\" title=\"dr autoire\" width=\"300\"/></a> </div>\n",
      "<div class=\"thumbs-stations\"> <a href=\"site-escalade-balme-de-yenne\" ref=\"#\"> <img alt=\"dr balme yenne\" height=\"200\" src=\"media/guide_falaises/sites/dr_balme_yenne__crop_300x200.jpg\" title=\"dr balme yenne\" width=\"300\"/></a> </div>\n",
      "<div class=\"thumbs-stations\"> <a href=\"site-escalade-bavella\" ref=\"#\"> <img alt=\"marc daviet bavella\" height=\"200\" src=\"media/guide_falaises/sites/marc_daviet_bavella__crop_300x200.jpg\" title=\"marc daviet bavella\" width=\"300\"/></a> </div>\n",
      "<div class=\"thumbs-stations\"> <a href=\"site-escalade-bergholtz\" ref=\"#\"> <img alt=\"bergholtz grandcru yannick\" height=\"200\" src=\"media/guide_falaises/sites/bergholtz_grandcru_yannick__crop_300x200.jpg\" title=\"bergholtz grandcru yannick\" width=\"300\"/></a> </div>\n",
      "<div class=\"thumbs-stations\"> <a href=\"site-escalade-bionnassay\" ref=\"#\"> <img alt=\"ben semiond bionnassay\" height=\"200\" src=\"media/guide_falaises/sites/ben_semiond_bionnassay__crop_300x200.jpg\" title=\"ben semiond bionnassay\" width=\"300\"/></a> </div>\n",
      "<div class=\"thumbs-stations\"> <a href=\"site-escalade-buoux\" ref=\"#\"> <img alt=\"buoux-escalade-manu-dans-meurtre-dans-un-jardin-anglais-7b\" height=\"200\" src=\"media/guide_falaises/sites/buoux-escalade-manu-dans-meurtre-dans-un-jardin-anglais-7b__crop_300x200.jpg\" title=\"buoux-escalade-manu-dans-meurtre-dans-un-jardin-anglais-7b\" width=\"300\"/></a> </div>\n",
      "<div class=\"thumbs-stations\"> <a href=\"site-escalade-cantobre\" ref=\"#\"> <img alt=\"sam bie cantobre\" height=\"200\" src=\"media/guide_falaises/sites/sam_bie_cantobre__crop_300x200.jpg\" title=\"sam bie cantobre\" width=\"300\"/></a> </div>\n",
      "<div class=\"thumbs-stations\"> <a href=\"site-escalade-cap-dramont\" ref=\"#\"> <img alt=\"fred labreveux12 capdramont\" height=\"200\" src=\"media/guide_falaises/sites/fred_labreveux12_capdramont__crop_300x200.jpg\" title=\"fred labreveux12 capdramont\" width=\"300\"/></a> </div>\n",
      "<div class=\"thumbs-stations\"> <a href=\"site-escalade-castillon\" ref=\"#\"> <img alt=\"castillon escalade paysage\" height=\"200\" src=\"media/guide_falaises/sites/castillon_escalade_paysage__crop_300x200.jpg\" title=\"castillon escalade paysage\" width=\"300\"/></a> </div>\n",
      "<div class=\"thumbs-stations\"> <a href=\"site-escalade-ceuse\" ref=\"#\"> <img alt=\"dr ceuse\" height=\"200\" src=\"media/guide_falaises/sites/dr_ceuse__crop_300x200.jpg\" title=\"dr ceuse\" width=\"300\"/></a> </div>\n",
      "<div class=\"thumbs-stations\"> <a href=\"site-escalade-chamiers\" ref=\"#\"> <img alt=\"chamiers2\" height=\"200\" src=\"media/guide_falaises/sites/chamiers2__crop_300x200.jpg\" title=\"chamiers2\" width=\"300\"/></a> </div>\n",
      "<div class=\"thumbs-stations\"> <a href=\"site-escalade-cimai\" ref=\"#\"> <img alt=\"cimai-escalade-chacha\" height=\"200\" src=\"media/guide_falaises/sites/cimai-escalade-chacha__crop_300x200.jpg\" title=\"cimai-escalade-chacha\" width=\"300\"/></a> </div>\n",
      "<div class=\"thumbs-stations\"> <a href=\"site-escalade-cirque-d-archiane\" ref=\"#\"> <img alt=\"falaise\" height=\"200\" src=\"media/guide_falaises/sites/falaise__crop_300x200.jpg\" title=\"falaise\" width=\"300\"/></a> </div>\n",
      "<div class=\"thumbs-stations\"> <a href=\"site-escalade-claret\" ref=\"#\"> <img alt=\"sam bie4 claret\" height=\"200\" src=\"media/guide_falaises/sites/sam_bie4_claret__crop_300x200.jpg\" title=\"sam bie4 claret\" width=\"300\"/></a> </div>\n"
     ]
    }
   ],
   "source": [
    "if response.ok:\n",
    "    soup = BeautifulSoup(response.text, 'lxml')\n",
    "    divs = soup.findAll('div', {'class': 'thumbs-stations'})\n",
    "    \n",
    "    # on affiche les divs en question :\n",
    "    for i in divs:\n",
    "        print(i)"
   ]
  },
  {
   "cell_type": "code",
   "execution_count": 51,
   "metadata": {},
   "outputs": [
    {
     "data": {
      "text/plain": [
       "bs4.element.ResultSet"
      ]
     },
     "execution_count": 51,
     "metadata": {},
     "output_type": "execute_result"
    }
   ],
   "source": [
    "type(divs)"
   ]
  },
  {
   "cell_type": "code",
   "execution_count": 52,
   "metadata": {},
   "outputs": [
    {
     "name": "stdout",
     "output_type": "stream",
     "text": [
      "['site-escalade-ablon', 'site-escalade-ailefroide', 'site-escalade-annot', 'site-escalade-arudy', 'site-escalade-autoire', 'site-escalade-balme-de-yenne', 'site-escalade-bavella', 'site-escalade-bergholtz', 'site-escalade-bionnassay', 'site-escalade-buoux', 'site-escalade-cantobre', 'site-escalade-cap-dramont', 'site-escalade-castillon', 'site-escalade-ceuse', 'site-escalade-chamiers', 'site-escalade-cimai', 'site-escalade-cirque-d-archiane', 'site-escalade-claret']\n"
     ]
    }
   ],
   "source": [
    "# on veut récupérer ce qui se trouve dans href :\n",
    "if response.ok:\n",
    "    \n",
    "    # tableau vide pour accueillir les liens :\n",
    "    links = []\n",
    "    \n",
    "    soup = BeautifulSoup(response.text, 'lxml')\n",
    "    divs = soup.findAll('div', {'class': 'thumbs-stations'})\n",
    "    for division in divs:\n",
    "        a = division.find('a')\n",
    "        \n",
    "        # on récupère ce qui se trouve dans href\n",
    "        link = a['href']\n",
    "        links.append(link)\n",
    "    print(links)"
   ]
  },
  {
   "cell_type": "code",
   "execution_count": 53,
   "metadata": {},
   "outputs": [],
   "source": [
    "## reconstitution des liens complets"
   ]
  },
  {
   "cell_type": "code",
   "execution_count": 54,
   "metadata": {},
   "outputs": [
    {
     "name": "stdout",
     "output_type": "stream",
     "text": [
      "['https://www.grimper.com/site-escalade-ablon', 'https://www.grimper.com/site-escalade-ailefroide', 'https://www.grimper.com/site-escalade-annot', 'https://www.grimper.com/site-escalade-arudy', 'https://www.grimper.com/site-escalade-autoire', 'https://www.grimper.com/site-escalade-balme-de-yenne', 'https://www.grimper.com/site-escalade-bavella', 'https://www.grimper.com/site-escalade-bergholtz', 'https://www.grimper.com/site-escalade-bionnassay', 'https://www.grimper.com/site-escalade-buoux', 'https://www.grimper.com/site-escalade-cantobre', 'https://www.grimper.com/site-escalade-cap-dramont', 'https://www.grimper.com/site-escalade-castillon', 'https://www.grimper.com/site-escalade-ceuse', 'https://www.grimper.com/site-escalade-chamiers', 'https://www.grimper.com/site-escalade-cimai', 'https://www.grimper.com/site-escalade-cirque-d-archiane', 'https://www.grimper.com/site-escalade-claret']\n"
     ]
    }
   ],
   "source": [
    "if response.ok:\n",
    "    links = []\n",
    "    soup = BeautifulSoup(response.text, 'lxml')\n",
    "    divs = soup.findAll('div', {'class': 'thumbs-stations'})\n",
    "    for division in divs:\n",
    "        a = division.find('a')\n",
    "        link = a['href']\n",
    "        links.append('https://www.grimper.com/'+link)\n",
    "    print(links)"
   ]
  },
  {
   "cell_type": "code",
   "execution_count": 55,
   "metadata": {},
   "outputs": [],
   "source": [
    "## on veut maintenant itérer ça sur les 10 pages du site :"
   ]
  },
  {
   "cell_type": "code",
   "execution_count": 15,
   "metadata": {},
   "outputs": [],
   "source": [
    "import time #### pour pas se faire cramer par le site"
   ]
  },
  {
   "cell_type": "code",
   "execution_count": 57,
   "metadata": {},
   "outputs": [
    {
     "name": "stdout",
     "output_type": "stream",
     "text": [
      "<Response [200]>\n",
      "<Response [200]>\n",
      "<Response [200]>\n",
      "<Response [200]>\n",
      "<Response [200]>\n",
      "<Response [200]>\n",
      "<Response [200]>\n",
      "<Response [200]>\n",
      "<Response [200]>\n",
      "<Response [200]>\n",
      "<Response [200]>\n"
     ]
    }
   ],
   "source": [
    "links = []\n",
    "\n",
    "for i in range(11): # -> 10 nombre de pages mais on commence à 0\n",
    "    url = 'https://www.grimper.com/site-escalade-sites/' + str(i)\n",
    "    response = requests.get(url)\n",
    "    print(response)\n",
    "    time.sleep(1) ### (pas forcément la bonne méthode, il faut utiliser des proxys)"
   ]
  },
  {
   "cell_type": "code",
   "execution_count": 58,
   "metadata": {},
   "outputs": [
    {
     "name": "stdout",
     "output_type": "stream",
     "text": [
      "<Response [200]>\n",
      "page 0\n",
      "<Response [200]>\n",
      "page 1\n",
      "<Response [200]>\n",
      "page 2\n",
      "<Response [200]>\n",
      "page 3\n",
      "<Response [200]>\n",
      "page 4\n",
      "<Response [200]>\n",
      "page 5\n",
      "<Response [200]>\n",
      "page 6\n",
      "<Response [200]>\n",
      "page 7\n",
      "<Response [200]>\n",
      "page 8\n",
      "<Response [200]>\n",
      "page 9\n",
      "<Response [200]>\n",
      "page 10\n"
     ]
    }
   ],
   "source": [
    "links = []\n",
    "\n",
    "for i in range(11): # -> nombre de pages\n",
    "    url = 'https://www.grimper.com/site-escalade-sites/' + str(i)\n",
    "    response = requests.get(url)\n",
    "    print(response)\n",
    "    if response.ok:\n",
    "        print('page ' +str(i))\n",
    "        soup = BeautifulSoup(response.text, 'lxml')\n",
    "        divs = soup.findAll('div', {'class': 'thumbs-stations'})\n",
    "        for division in divs:\n",
    "            a = division.find('a')\n",
    "            link = a['href']\n",
    "            links.append('https://www.grimper.com/'+link)\n",
    "        time.sleep(1)"
   ]
  },
  {
   "cell_type": "markdown",
   "metadata": {},
   "source": [
    "On a récupéré tous les liens normalement !!"
   ]
  },
  {
   "cell_type": "code",
   "execution_count": 59,
   "metadata": {},
   "outputs": [
    {
     "name": "stdout",
     "output_type": "stream",
     "text": [
      "['https://www.grimper.com/site-escalade-ablon', 'https://www.grimper.com/site-escalade-ailefroide', 'https://www.grimper.com/site-escalade-annot', 'https://www.grimper.com/site-escalade-antalya', 'https://www.grimper.com/site-escalade-arudy', 'https://www.grimper.com/site-escalade-autoire', 'https://www.grimper.com/site-escalade-badami', 'https://www.grimper.com/site-escalade-balme-de-yenne', 'https://www.grimper.com/site-escalade-bavella', 'https://www.grimper.com/site-escalade-bergholtz', 'https://www.grimper.com/site-escalade-bionnassay', 'https://www.grimper.com/site-escalade-blue-mountains', 'https://www.grimper.com/site-escalade-boven', 'https://www.grimper.com/site-escalade-buoux', 'https://www.grimper.com/site-escalade-cantobre', 'https://www.grimper.com/site-escalade-cap-dramont', 'https://www.grimper.com/site-escalade-castillon', 'https://www.grimper.com/site-escalade-ceuse', 'https://www.grimper.com/site-escalade-chamiers', 'https://www.grimper.com/site-escalade-cimai', 'https://www.grimper.com/site-escalade-cirque-d-archiane', 'https://www.grimper.com/site-escalade-claret', 'https://www.grimper.com/site-escalade-clemont', 'https://www.grimper.com/site-escalade-clisson', 'https://www.grimper.com/site-escalade-ablon', 'https://www.grimper.com/site-escalade-ailefroide', 'https://www.grimper.com/site-escalade-annot', 'https://www.grimper.com/site-escalade-antalya', 'https://www.grimper.com/site-escalade-arudy', 'https://www.grimper.com/site-escalade-autoire', 'https://www.grimper.com/site-escalade-badami', 'https://www.grimper.com/site-escalade-balme-de-yenne', 'https://www.grimper.com/site-escalade-bavella', 'https://www.grimper.com/site-escalade-bergholtz', 'https://www.grimper.com/site-escalade-bionnassay', 'https://www.grimper.com/site-escalade-blue-mountains', 'https://www.grimper.com/site-escalade-boven', 'https://www.grimper.com/site-escalade-buoux', 'https://www.grimper.com/site-escalade-cantobre', 'https://www.grimper.com/site-escalade-cap-dramont', 'https://www.grimper.com/site-escalade-castillon', 'https://www.grimper.com/site-escalade-ceuse', 'https://www.grimper.com/site-escalade-chamiers', 'https://www.grimper.com/site-escalade-cimai', 'https://www.grimper.com/site-escalade-cirque-d-archiane', 'https://www.grimper.com/site-escalade-claret', 'https://www.grimper.com/site-escalade-clemont', 'https://www.grimper.com/site-escalade-clisson', 'https://www.grimper.com/site-escalade-col-de-la-colombiere', 'https://www.grimper.com/site-escalade-collias', 'https://www.grimper.com/site-escalade-cormot', 'https://www.grimper.com/site-escalade-cote-court', 'https://www.grimper.com/site-escalade-courchon-verdon', 'https://www.grimper.com/couyrac', 'https://www.grimper.com/site-escalade-crenans', 'https://www.grimper.com/site-escalade-dj-face', 'https://www.grimper.com/site-escalade-dalle-gleize', 'https://www.grimper.com/site-escalade-el-chonta', 'https://www.grimper.com/site-escalade-entraigues', 'https://www.grimper.com/site-escalade-entraygues', 'https://www.grimper.com/site-escalade-eyroles', 'https://www.grimper.com/site-escalade-falaise-de-correns-chateauvert', 'https://www.grimper.com/site-escalade-falaise-eson-pont-de-barret', 'https://www.grimper.com/site-escalade-fauzan', 'https://www.grimper.com/site-escalade-fetide-beach', 'https://www.grimper.com/site-escalade-fixin', 'https://www.grimper.com/site-escalade-flaine', 'https://www.grimper.com/site-escalade-fontainebleau', 'https://www.grimper.com/site-escalade-genat', 'https://www.grimper.com/site-escalade-getu', 'https://www.grimper.com/site-escalade-glandasse', 'https://www.grimper.com/site-escalade-gorges-ardeche', 'https://www.grimper.com/site-escalade-gorges-de-la-jonte', 'https://www.grimper.com/site-escalade-gorges-du-blavet', 'https://www.grimper.com/site-escalade-gorges-du-tarn', 'https://www.grimper.com/site-escalade-grotte-du-brotsch', 'https://www.grimper.com/site-escalade-grottes-de-sare', 'https://www.grimper.com/site-escalade-gueberschwihr', 'https://www.grimper.com/site-escalade-kalymnos', 'https://www.grimper.com/site-escalade-kerlouan', 'https://www.grimper.com/site-escalade-krappenfels', 'https://www.grimper.com/site-escalade-hortus', 'https://www.grimper.com/site-escalade-l-obiou', 'https://www.grimper.com/site-escalade-la-carriere-du-maupas', 'https://www.grimper.com/site-escalade-la-chalp', 'https://www.grimper.com/site-escalade-la-chambotte', 'https://www.grimper.com/site-escalade-la-clape', 'https://www.grimper.com/site-escalade-la-combe-obscure', 'https://www.grimper.com/site-escalade-la-concession', 'https://www.grimper.com/site-escalade-la-croix', 'https://www.grimper.com/site-escalade-la-dalle-de-chantelouve', 'https://www.grimper.com/site-escalade-la-dent-de-la-rancune', 'https://www.grimper.com/site-escalade-la-dibona', 'https://www.grimper.com/site-escalade-la-falaise-de-cohons', 'https://www.grimper.com/site-escalade-la-gittaz', 'https://www.grimper.com/site-escalade-la-goulandiere', 'https://www.grimper.com/site-escalade-la-grande-falaise-freissinieres', 'https://www.grimper.com/site-escalade-la-hottee-du-diable', 'https://www.grimper.com/site-escalade-la-madeleine', 'https://www.grimper.com/site-escalade-la-martinswand', 'https://www.grimper.com/site-escalade-la-mature', 'https://www.grimper.com/site-escalade-la-plage', 'https://www.grimper.com/site-escalade-la-pointe-percee', 'https://www.grimper.com/site-escalade-la-presqu-ile-tamee', 'https://www.grimper.com/site-escalade-la-reserve', 'https://www.grimper.com/site-escalade-la-restonica', 'https://www.grimper.com/site-escalade-la-roche-bernard', 'https://www.grimper.com/site-escalade-la-rochette', 'https://www.grimper.com/site-escalade-la-roque', 'https://www.grimper.com/site-escalade-la-taupiniere-tamee', 'https://www.grimper.com/site-escalade-la-tour-sur-tinee', 'https://www.grimper.com/site-escalade-la-tournette', 'https://www.grimper.com/site-escalade-la-turbie', 'https://www.grimper.com/site-escalade-le-baou-des-4-ouros', 'https://www.grimper.com/site-escalade-le-barring-bavella', 'https://www.grimper.com/site-escalade-le-cap-canaille', 'https://www.grimper.com/site-escalade-le-capucin', 'https://www.grimper.com/site-escalade-le-caroux', 'https://www.grimper.com/site-escalade-le-chaos-du-claps', 'https://www.grimper.com/site-escalade-le-falkenfels', 'https://www.grimper.com/site-escalade-le-foron', 'https://www.grimper.com/site-escalade-le-fournel', 'https://www.grimper.com/site-escalade-le-fugeret-annot', 'https://www.grimper.com/site-escalade-le-gauxberg', 'https://www.grimper.com/site-escalade-le-grand-sablat', 'https://www.grimper.com/site-escalade-le-grand-vallon-roquevaire', 'https://www.grimper.com/site-escalade-le-joncas', 'https://www.grimper.com/site-escalade-le-kronthal', 'https://www.grimper.com/site-escalade-le-moulin-de-bertrand', 'https://www.grimper.com/site-escalade-le-pieroux', 'https://www.grimper.com/site-escalade-le-pont-du-pretre', 'https://www.grimper.com/site-escalade-le-precipice-de-corbiere', 'https://www.grimper.com/site-escalade-le-prieure-lodeve', 'https://www.grimper.com/site-escalade-le-quie-de-sinsat', 'https://www.grimper.com/site-escalade-roc-d-anglars', 'https://www.grimper.com/site-escalade-le-rocher-crespin', 'https://www.grimper.com/site-escalade-le-rocher-de-11-heures', 'https://www.grimper.com/site-escalade-le-rocher-de-gonson', 'https://www.grimper.com/site-escalade-le-rocher-du-sphinx', 'https://www.grimper.com/site-escalade-le-saleve', 'https://www.grimper.com/site-escalade-le-saussois', 'https://www.grimper.com/site-escalade-le-teillon-verdon', 'https://www.grimper.com/site-escalade-le-thaurac', 'https://www.grimper.com/site-escalade-le-verdon', 'https://www.grimper.com/site-escalade-lerouville', 'https://www.grimper.com/site-escalade-les-3-becs', 'https://www.grimper.com/site-escalade-les-aiguilles-rouges', 'https://www.grimper.com/site-escalade-les-basses-gorges', 'https://www.grimper.com/site-escalade-les-bossons', 'https://www.grimper.com/site-escalade-les-calanques', 'https://www.grimper.com/site-escalade-les-cerces', 'https://www.grimper.com/site-escalade-les-dentelles-de-montmirail', 'https://www.grimper.com/site-escalade-les-dents-de-lanfon', 'https://www.grimper.com/site-escalade-les-eaux-claires', 'https://www.grimper.com/site-escalade-les-falloises-de-vertus', 'https://www.grimper.com/site-escalade-les-fiz', 'https://www.grimper.com/site-escalade-les-gicons', 'https://www.grimper.com/site-escalade-les-gillardes', 'https://www.grimper.com/site-escalade-les-gorges-du-loup', 'https://www.grimper.com/site-escalade-les-herbez', 'https://www.grimper.com/site-escalade-les-lames', 'https://www.grimper.com/site-escalade-les-petits-goulets', 'https://www.grimper.com/site-escalade-les-pinets', 'https://www.grimper.com/site-escalade-les-roches-qui-dansent', 'https://www.grimper.com/site-escalade-sucettes-borne', 'https://www.grimper.com/site-escalade-les-traverses', 'https://www.grimper.com/site-escalade-les-trois-rivieres-entrechaux', 'https://www.grimper.com/site-escalade-llo', 'https://www.grimper.com/site-escalade-auberge-espagnole', 'https://www.grimper.com/site-escalade-manjo-carn', 'https://www.grimper.com/site-escalade-margalef', 'https://www.grimper.com/site-escalade-marocaz', 'https://www.grimper.com/site-escalade-medonnet', 'https://www.grimper.com/site-escalade-mevouillon', 'https://www.grimper.com/site-escalade-millennium', 'https://www.grimper.com/site-escalade-mollans-sur-ouveze', 'https://www.grimper.com/site-escalade-mont-aiguille', 'https://www.grimper.com/site-escalade-mont-dauphin', 'https://www.grimper.com/site-escalade-mouries', 'https://www.grimper.com/site-escalade-notre-dame-du-cros', 'https://www.grimper.com/site-escalade-ombleze', 'https://www.grimper.com/site-escalade-orgon', 'https://www.grimper.com/site-escalade-orlu', 'https://www.grimper.com/site-escalade-orpierre', 'https://www.grimper.com/site-escalade-peillon', 'https://www.grimper.com/site-escalade-pen-hir', 'https://www.grimper.com/site-escalade-pene-haute', 'https://www.grimper.com/site-escalade-pic-bure', 'https://www.grimper.com/site-escalade-pic-du-perthus', 'https://www.grimper.com/site-escalade-pic-saint-loup', 'https://www.grimper.com/site-escalade-pierre-lys', 'https://www.grimper.com/site-escalade-ploumanach', 'https://www.grimper.com/site-escalade-pont-espagne', 'https://www.grimper.com/site-escalade-pont-de-camps', 'https://www.grimper.com/site-escalade-pont-saint-nicolas', 'https://www.grimper.com/site-escalade-presles', 'https://www.grimper.com/site-escalade-punta-di-capineru-pianotolli-di-caldarello', 'https://www.grimper.com/site-escalade-puy-saint-vincent', 'https://www.grimper.com/site-escalade-quinson-verdon', 'https://www.grimper.com/site-escalade-red-river-gorge', 'https://www.grimper.com/site-escalade-riouperoux', 'https://www.grimper.com/site-escalade-rochefort-du-gard', 'https://www.grimper.com/site-escalade-rocher-du-midi', 'https://www.grimper.com/site-escalade-rocher-du-saint-julien-buis-les-baronnies', 'https://www.grimper.com/site-escalade-romeyer', 'https://www.grimper.com/site-escalade-rurey', 'https://www.grimper.com/site-escalade-russan', 'https://www.grimper.com/site-escalade-saint-mihiel', 'https://www.grimper.com/site-escalade-saint-pancrasse', 'https://www.grimper.com/site-escalade-le-capucin-saint-antonin-noble-val', 'https://www.grimper.com/site-escalade-saint-bauzille-de-montmel', 'https://www.grimper.com/site-escalade-saint-cezaire', 'https://www.grimper.com/site-escalade-saint-florent', 'https://www.grimper.com/site-escalade-saint-gery', 'https://www.grimper.com/site-escalade-saint-guilhem-le-desert', 'https://www.grimper.com/site-escalade-saint-jean-de-bueges', 'https://www.grimper.com/site-escalade-saint-leger-du-ventoux', 'https://www.grimper.com/site-escalade-saint-sauves', 'https://www.grimper.com/site-escalade-sainte-croix', 'https://www.grimper.com/site-escalade-sainte-victoire', 'https://www.grimper.com/site-escalade-saou', 'https://www.grimper.com/site-escalade-serre-chatelard', 'https://www.grimper.com/site-escalade-seynes', 'https://www.grimper.com/site-escalade-siurana', 'https://www.grimper.com/site-escalade-smith-rock', 'https://www.grimper.com/site-escalade-suberpene', 'https://www.grimper.com/site-escalade-suesca', 'https://www.grimper.com/site-escalade-taghia', 'https://www.grimper.com/site-escalade-targasonne', 'https://www.grimper.com/site-escalade-tautavel', 'https://www.grimper.com/site-escalade-tournoux', 'https://www.grimper.com/site-escalade-tousaus', 'https://www.grimper.com/site-escalade-ltrenze', 'https://www.grimper.com/site-escalade-troubat', 'https://www.grimper.com/site-escalade-tsaranoro', 'https://www.grimper.com/site-escalade-valdu-di-saltu', 'https://www.grimper.com/site-escalade-valgorge', 'https://www.grimper.com/site-escalade-valjouffrey', 'https://www.grimper.com/site-escalade-vallouise', 'https://www.grimper.com/site-escalade-venasque', 'https://www.grimper.com/site-escalade-vingrau', 'https://www.grimper.com/site-escalade-zillertal']\n"
     ]
    }
   ],
   "source": [
    "print(links)"
   ]
  },
  {
   "cell_type": "code",
   "execution_count": 60,
   "metadata": {},
   "outputs": [
    {
     "name": "stdout",
     "output_type": "stream",
     "text": [
      "242\n"
     ]
    }
   ],
   "source": [
    "print(len(links))"
   ]
  },
  {
   "cell_type": "markdown",
   "metadata": {},
   "source": [
    "OK !"
   ]
  },
  {
   "cell_type": "code",
   "execution_count": 61,
   "metadata": {},
   "outputs": [],
   "source": [
    "# --> 240 spots"
   ]
  },
  {
   "cell_type": "code",
   "execution_count": 62,
   "metadata": {},
   "outputs": [],
   "source": [
    "# on va stocker ça maintenant dans un fichier csv"
   ]
  },
  {
   "cell_type": "code",
   "execution_count": 63,
   "metadata": {},
   "outputs": [],
   "source": [
    "with open('urls.txt', 'w') as file:\n",
    "    for link in links:\n",
    "        file.write(link + '\\n')"
   ]
  },
  {
   "cell_type": "markdown",
   "metadata": {},
   "source": [
    "Maintenant on va récupérer les infos utiles sur chaque page"
   ]
  },
  {
   "cell_type": "code",
   "execution_count": 64,
   "metadata": {},
   "outputs": [],
   "source": [
    "# on regarde un exemple :\n",
    "url = 'https://www.grimper.com/site-escalade-fixin'"
   ]
  },
  {
   "cell_type": "code",
   "execution_count": 65,
   "metadata": {},
   "outputs": [],
   "source": [
    "response = requests.get(url)"
   ]
  },
  {
   "cell_type": "code",
   "execution_count": 66,
   "metadata": {},
   "outputs": [
    {
     "name": "stdout",
     "output_type": "stream",
     "text": [
      "<Response [200]>\n"
     ]
    }
   ],
   "source": [
    "if response.ok:\n",
    "    print(response)"
   ]
  },
  {
   "cell_type": "code",
   "execution_count": 67,
   "metadata": {},
   "outputs": [
    {
     "name": "stdout",
     "output_type": "stream",
     "text": [
      "Fixin : site escalade Falaise, accès, topo Fixin, France\n"
     ]
    }
   ],
   "source": [
    "if response.ok:\n",
    "    soup = BeautifulSoup(response.text, 'lxml')\n",
    "    title = soup.find('title')\n",
    "    print(title.text)"
   ]
  },
  {
   "cell_type": "code",
   "execution_count": 68,
   "metadata": {},
   "outputs": [
    {
     "name": "stdout",
     "output_type": "stream",
     "text": [
      "Fixin\n",
      "France\n",
      "Bourgogne\n",
      "TypeFalaise\n",
      "Hauteur5 à 35 m\n",
      "OrientationSud\n",
      "Nombre de voies250 voies\n",
      "CotationsDe 3a à 8c\n"
     ]
    }
   ],
   "source": [
    "# les infos qui nous intéressent :\n",
    "\n",
    "if response.ok:\n",
    "    soup = BeautifulSoup(response.text, 'lxml')\n",
    "    spot = soup.find('h1')\n",
    "    print(spot.text)\n",
    "    pays = soup.find('h2').find('a', {'class': 'schema-lie'})\n",
    "    print(pays.text)\n",
    "    region = soup.find('h2').find('a', {'class': ''})\n",
    "    print(region.text)\n",
    "    infoSupplémentaires = soup.findAll('span', {'class': 'valeurFalaise'})\n",
    "    for i in infoSupplémentaires:\n",
    "        print(i.text)"
   ]
  },
  {
   "cell_type": "code",
   "execution_count": 69,
   "metadata": {},
   "outputs": [
    {
     "name": "stdout",
     "output_type": "stream",
     "text": [
      "TypeFalaise\n"
     ]
    }
   ],
   "source": [
    "print(infoSupplémentaires[0].text)"
   ]
  },
  {
   "cell_type": "markdown",
   "metadata": {},
   "source": [
    "On écrit ça dans un csv :"
   ]
  },
  {
   "cell_type": "code",
   "execution_count": 40,
   "metadata": {},
   "outputs": [],
   "source": [
    "with open('spots.csv', 'w') as outf:\n",
    "    outf.write('spot; pays; région; type; hauteur; orientation; nombre de voies; cotations\\n')\n",
    "    response = requests.get(url)\n",
    "    if response.ok:\n",
    "        soup = BeautifulSoup(response.text, 'lxml')\n",
    "        spot = soup.find('h1')\n",
    "        pays = soup.find('h2').find('a', {'class': 'schema-lie'})\n",
    "        region = soup.find('h2').find('a', {'class': ''})\n",
    "        infoSupplémentaires = soup.findAll('span', {'class': 'valeurFalaise'})\n",
    "        outf.write(spot.text +'; '\n",
    "                   +pays.text+'; '\n",
    "                   +region.text+'; '\n",
    "                   +infoSupplémentaires[0].text+'; '\n",
    "                   +infoSupplémentaires[1].text+'; '\n",
    "                   +infoSupplémentaires[2].text+'; '\n",
    "                   +infoSupplémentaires[3].text+'; '\n",
    "                   +infoSupplémentaires[4].text+'\\n')"
   ]
  },
  {
   "cell_type": "code",
   "execution_count": 42,
   "metadata": {},
   "outputs": [],
   "source": [
    "# maintenant on peut procéder à l'export final !"
   ]
  },
  {
   "cell_type": "code",
   "execution_count": 70,
   "metadata": {},
   "outputs": [],
   "source": [
    "with open('urls.txt', 'r') as intf:\n",
    "    with open('spots.csv', 'w') as outf:\n",
    "        outf.write('spot; pays; region; type; hauteur; orientation; nombre de voies; cotations\\n')\n",
    "        for row in intf:\n",
    "            url = row.strip() #### strip pour enlever les retours à la ligne dans les urls.\n",
    "            response = requests.get(url)\n",
    "            if response.ok:\n",
    "                soup = BeautifulSoup(response.text, 'lxml')\n",
    "                spot = soup.find('h1')\n",
    "                pays = soup.find('h2').find('a', {'class': 'schema-lie'})\n",
    "                region = soup.find('h2').find('a', {'class': ''})\n",
    "                infoSupplémentaires = soup.findAll('span', {'class': 'valeurFalaise'})\n",
    "                outf.write(spot.text +'; '\n",
    "                   +pays.text+'; '\n",
    "                   +region.text+'; '\n",
    "                   +infoSupplémentaires[0].text+'; '\n",
    "                   +infoSupplémentaires[1].text+'; '\n",
    "                   +infoSupplémentaires[2].text+'; '\n",
    "                   +infoSupplémentaires[3].text+'; '\n",
    "                   +infoSupplémentaires[4].text+'\\n')\n",
    "            #time.sleep(15)"
   ]
  },
  {
   "cell_type": "code",
   "execution_count": null,
   "metadata": {},
   "outputs": [],
   "source": []
  }
 ],
 "metadata": {
  "kernelspec": {
   "display_name": "Python 3",
   "language": "python",
   "name": "python3"
  },
  "language_info": {
   "codemirror_mode": {
    "name": "ipython",
    "version": 3
   },
   "file_extension": ".py",
   "mimetype": "text/x-python",
   "name": "python",
   "nbconvert_exporter": "python",
   "pygments_lexer": "ipython3",
   "version": "3.8.3"
  }
 },
 "nbformat": 4,
 "nbformat_minor": 4
}
