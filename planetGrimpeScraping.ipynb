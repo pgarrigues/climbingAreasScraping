{
 "cells": [
  {
   "cell_type": "code",
   "execution_count": 3,
   "metadata": {},
   "outputs": [],
   "source": [
    "# objectif : scraper planet grimpe"
   ]
  },
  {
   "cell_type": "code",
   "execution_count": 4,
   "metadata": {},
   "outputs": [],
   "source": [
    "# importation des librairies\n",
    "import requests\n",
    "from bs4 import BeautifulSoup\n",
    "import csv"
   ]
  },
  {
   "cell_type": "code",
   "execution_count": 5,
   "metadata": {},
   "outputs": [],
   "source": [
    "#exemple de page :\n",
    "url = 'https://planetgrimpe.com/falaise/moustarde/'"
   ]
  },
  {
   "cell_type": "code",
   "execution_count": 6,
   "metadata": {},
   "outputs": [],
   "source": [
    "response = requests.get(url)"
   ]
  },
  {
   "cell_type": "code",
   "execution_count": 7,
   "metadata": {},
   "outputs": [
    {
     "name": "stdout",
     "output_type": "stream",
     "text": [
      "<Response [200]>\n"
     ]
    }
   ],
   "source": [
    "if response.ok:\n",
    "    print(response)"
   ]
  },
  {
   "cell_type": "code",
   "execution_count": 8,
   "metadata": {},
   "outputs": [
    {
     "name": "stdout",
     "output_type": "stream",
     "text": [
      "Falaise Moustardé, guide d’escalade Laruns. Topos, accessibilité, photos et avis des grimpeurs sur Moustardé\n"
     ]
    }
   ],
   "source": [
    "if response.ok:\n",
    "    soup = BeautifulSoup(response.text, 'lxml')\n",
    "    title = soup.find('title')\n",
    "    print(title.text)"
   ]
  },
  {
   "cell_type": "code",
   "execution_count": 9,
   "metadata": {},
   "outputs": [
    {
     "name": "stdout",
     "output_type": "stream",
     "text": [
      "Falaise Moustardé\n",
      "---\n",
      "France \n",
      "Aquitaine \n",
      "Pyrénées Atlantiques \n",
      "Laruns\n",
      "---\n",
      "10 - 30m\n",
      "25\n",
      "Printemps, Automne\n",
      "5b 6b\n",
      "Modérée | 20min\n",
      "Sud, Sud-Est\n",
      "10m\n",
      "30m\n",
      "20m\n",
      "Couenne\n",
      "42.825834\n",
      "-0.3985238\n"
     ]
    }
   ],
   "source": [
    "# les infos qui nous intéressent :\n",
    "\n",
    "if response.ok:\n",
    "    soup = BeautifulSoup(response.text, 'lxml')\n",
    "    \n",
    "    spot = soup.find('div', {'id': 'single_top'}).find('h1')\n",
    "    print(spot.text)\n",
    "    \n",
    "    localisation = soup.find('div', {'id': 'single_top'}).findAll('li')\n",
    "    #for i in pays:\n",
    "    #    print(i.text)\n",
    "    \n",
    "    longueurLocalisation = len(localisation)\n",
    "    \n",
    "    if longueurLocalisation == 0:\n",
    "        pays = \" \"\n",
    "        region = \" \"\n",
    "        departement = \" \"\n",
    "        ville = \" \"\n",
    "        print('---')\n",
    "        print('aucune info')\n",
    "        print('---')\n",
    "    elif longueurLocalisation == 1:\n",
    "        pays = localisation[0].text\n",
    "        region = \" \"\n",
    "        departement = \" \"\n",
    "        ville = \" \"\n",
    "        print('---')\n",
    "        print(pays)\n",
    "        print('Pas de région')\n",
    "        print('Pas de département')\n",
    "        print('Pas de ville')\n",
    "        print('---')\n",
    "    elif longueurLocalisation == 2:\n",
    "        pays = localisation[0].text\n",
    "        region = \" \"\n",
    "        departement = \" \"\n",
    "        ville = localisation[1].text\n",
    "        print('---')\n",
    "        print(pays)\n",
    "        print('Pas de région')\n",
    "        print('Pas de département')\n",
    "        print(ville)\n",
    "        print('---')\n",
    "    elif longueurLocalisation == 3:\n",
    "        pays = localisation[0].text\n",
    "        region = localisation[1].text\n",
    "        departement = \" \"\n",
    "        ville = localisation[2].text\n",
    "        print('---')\n",
    "        print(pays)\n",
    "        print(region)\n",
    "        print('Pas de département')\n",
    "        print(ville)\n",
    "        print('---')\n",
    "    elif longueurLocalisation == 4:\n",
    "        pays = localisation[0].text\n",
    "        region = localisation[1].text\n",
    "        departement = localisation[2].text\n",
    "        ville = localisation[3].text\n",
    "        print('---')\n",
    "        print(pays)\n",
    "        print(region)\n",
    "        print(departement)\n",
    "        print(ville)\n",
    "        print('---')\n",
    "    \n",
    "    infosPrincipalesSpot = soup.find('div', {'id': 'single_top'}).find('div', {'class': 'single_top_infos'}).findAll('div', {'class': 'single_top_infosbloc'})\n",
    "    #for i in infosPrincipalesSpot:\n",
    "    #    print(i.text)\n",
    "    \n",
    "    longueurInfosPrincipales = len(infosPrincipalesSpot)\n",
    "    \n",
    "    if longueurInfosPrincipales == 5:\n",
    "        hauteur = infosPrincipalesSpot[0].text\n",
    "        print(hauteur[:-7])\n",
    "        lignes = infosPrincipalesSpot[1].text\n",
    "        print(lignes[:-6])\n",
    "        meilleuresSaisons = infosPrincipalesSpot[2].text\n",
    "        print(meilleuresSaisons[:-18])\n",
    "        cotations = infosPrincipalesSpot[3].text\n",
    "        print(cotations[:-9])\n",
    "        approche = infosPrincipalesSpot[4].text\n",
    "        print(approche[:-29])\n",
    "    elif longueurInfosPrincipales == 6:\n",
    "        hauteur = infosPrincipalesSpot[1].text\n",
    "        print(hauteur[:-7])\n",
    "        lignes = infosPrincipalesSpot[2].text\n",
    "        print(lignes[:-6])\n",
    "        meilleuresSaisons = infosPrincipalesSpot[3].text\n",
    "        print(meilleuresSaisons[:-18])\n",
    "        cotations = infosPrincipalesSpot[4].text\n",
    "        print(cotations[:-9])\n",
    "        approche = infosPrincipalesSpot[5].text\n",
    "        print(approche[:-29])\n",
    "    \n",
    "    infosSupp = soup.find('div', {'id': 'page_ctn'}).find('ul').findAll('li')     \n",
    "    orientation = infosSupp[1].text\n",
    "    print(orientation[22:])\n",
    "    hauteurMin = infosSupp[3].text\n",
    "    print(hauteurMin[16:])\n",
    "    hauteurMax = infosSupp[4].text\n",
    "    print(hauteurMax[16:])\n",
    "    hauteurMoyenne = infosSupp[5].text\n",
    "    print(hauteurMoyenne[16:])\n",
    "    discipline = infosSupp[6].text\n",
    "    print(discipline[16:])\n",
    "    \n",
    "    coordonnees = soup.find('div', {'class': 'map_legende'}).find('span')\n",
    "    coord = coordonnees.text\n",
    "    coordSplit = coord.split('-')\n",
    "    \n",
    "    longueurCoordSplit = len(coordSplit)\n",
    "    \n",
    "    ## longitudes et latitudes positives :\n",
    "    if longueurCoordSplit == 3:\n",
    "        coordSplit0 = coordSplit[0]\n",
    "        coordSplit1 = coordSplit[1]\n",
    "        latitude = coordSplit0[11:20]\n",
    "        longitude = coordSplit1[1:9]\n",
    "        #print(coordSplit0)\n",
    "        #print(coordSplit1)\n",
    "        print(latitude)\n",
    "        print(longitude)\n",
    "    ## longitudes négatives, latitudes positives :\n",
    "    elif longueurCoordSplit == 5:\n",
    "        coordSplit0 = coordSplit[0]\n",
    "        coordSplit2 = coordSplit[2]\n",
    "        latitude = coordSplit0[11:20]\n",
    "        longitude = \"-\"+coordSplit2[0:9]\n",
    "        #print(coordSplit0)\n",
    "        #print(coordSplit2)\n",
    "        print(latitude)\n",
    "        print(longitude)"
   ]
  },
  {
   "cell_type": "code",
   "execution_count": 10,
   "metadata": {},
   "outputs": [],
   "source": [
    "with open('spotsPlanetGrimp.csv', 'w') as outf:\n",
    "    outf.write('spot; pays; region; departement; ville; hauteur; nb_lignes; meileures_saisons; cotations; approche; orientation; hauteur_min; hauteur_max; hauteur_moyenne; type; latitude; longitude\\n')\n",
    "    response = requests.get(url)\n",
    "    if response.ok:\n",
    "        soup = BeautifulSoup(response.text, 'lxml')\n",
    "        \n",
    "        spot = soup.find('div', {'id': 'single_top'}).find('h1')\n",
    "    \n",
    "        localisation = soup.find('div', {'id': 'single_top'}).findAll('li')\n",
    "        \n",
    "        longueurLocalisation = len(localisation)\n",
    "    \n",
    "        if longueurLocalisation == 0:\n",
    "            pays = \" \"\n",
    "            region = \" \"\n",
    "            departement = \" \"\n",
    "            ville = \" \"\n",
    "        elif longueurLocalisation == 1:\n",
    "            pays = localisation[0].text\n",
    "            region = \" \"\n",
    "            departement = \" \"\n",
    "            ville = \" \"\n",
    "        elif longueurLocalisation == 2:\n",
    "            pays = localisation[0].text\n",
    "            region = \" \"\n",
    "            departement = \" \"\n",
    "            ville = localisation[1].text\n",
    "        elif longueurLocalisation == 3:\n",
    "            pays = localisation[0].text\n",
    "            region = localisation[1].text\n",
    "            departement = \" \"\n",
    "            ville = localisation[2].text\n",
    "        elif longueurLocalisation == 4:\n",
    "            pays = localisation[0].text\n",
    "            region = localisation[1].text\n",
    "            departement = localisation[2].text\n",
    "            ville = localisation[3].text\n",
    "    \n",
    "        infosPrincipalesSpot = soup.find('div', {'id': 'single_top'}).find('div', {'class': 'single_top_infos'}).findAll('div', {'class': 'single_top_infosbloc'})\n",
    "        \n",
    "        longueurInfosPrincipales = len(infosPrincipalesSpot)\n",
    "    \n",
    "        if longueurInfosPrincipales == 5:\n",
    "            hauteur = infosPrincipalesSpot[0].text\n",
    "            lignes = infosPrincipalesSpot[1].text\n",
    "            meilleuresSaisons = infosPrincipalesSpot[2].text\n",
    "            cotations = infosPrincipalesSpot[3].text\n",
    "            approche = infosPrincipalesSpot[4].text\n",
    "        elif longueurInfosPrincipales == 6:\n",
    "            hauteur = infosPrincipalesSpot[1].text\n",
    "            lignes = infosPrincipalesSpot[2].text\n",
    "            meilleuresSaisons = infosPrincipalesSpot[3].text\n",
    "            cotations = infosPrincipalesSpot[4].text\n",
    "            approche = infosPrincipalesSpot[5].text\n",
    "        \n",
    "        infosSupp = soup.find('div', {'id': 'page_ctn'}).find('ul').findAll('li')     \n",
    "        orientation = infosSupp[1].text\n",
    "        hauteurMin = infosSupp[3].text\n",
    "        hauteurMax = infosSupp[4].text\n",
    "        hauteurMoyenne = infosSupp[5].text\n",
    "        discipline = infosSupp[6].text\n",
    "        \n",
    "        coordonnees = soup.find('div', {'class': 'map_legende'}).find('span')\n",
    "        coord = coordonnees.text\n",
    "        coordSplit = coord.split('-')\n",
    "\n",
    "        longueurCoordSplit = len(coordSplit)\n",
    "\n",
    "        ## longitudes et latitudes positives :\n",
    "        if longueurCoordSplit == 3:\n",
    "            coordSplit0 = coordSplit[0]\n",
    "            coordSplit1 = coordSplit[1]\n",
    "            latitude = coordSplit0[11:20]\n",
    "            longitude = coordSplit1[1:9]\n",
    "\n",
    "        ## longitudes négatives, latitudes positives :\n",
    "        elif longueurCoordSplit == 5:\n",
    "            coordSplit0 = coordSplit[0]\n",
    "            coordSplit2 = coordSplit[2]\n",
    "            latitude = coordSplit0[11:20]\n",
    "            longitude = \"-\"+coordSplit2[0:9]\n",
    "        \n",
    "        outf.write(spot.text +'; '\n",
    "                   +pays+'; '\n",
    "                   +region+'; '\n",
    "                   +departement+'; '\n",
    "                   +ville+'; '\n",
    "                   +hauteur[:-7]+'; '\n",
    "                   +lignes[:-6]+'; '\n",
    "                   +meilleuresSaisons[:-18]+'; '\n",
    "                   +cotations[:-9]+'; '\n",
    "                   +approche[:-29]+'; '\n",
    "                   +orientation[22:]+'; '\n",
    "                   +hauteurMin[16:]+'; '\n",
    "                   +hauteurMax[16:]+'; '\n",
    "                   +hauteurMoyenne[16:]+'; '\n",
    "                   +discipline[16:]+'; '\n",
    "                   +latitude+'; '\n",
    "                   +longitude+'\\n')"
   ]
  },
  {
   "cell_type": "code",
   "execution_count": null,
   "metadata": {},
   "outputs": [],
   "source": []
  },
  {
   "cell_type": "code",
   "execution_count": 1,
   "metadata": {},
   "outputs": [],
   "source": [
    "### reste à choper toutes les pages maintenant"
   ]
  },
  {
   "cell_type": "code",
   "execution_count": 37,
   "metadata": {},
   "outputs": [],
   "source": [
    "url = \"https://planetgrimpe.com/localisation/france/\""
   ]
  },
  {
   "cell_type": "code",
   "execution_count": 38,
   "metadata": {},
   "outputs": [],
   "source": [
    "response =  requests.get(url)"
   ]
  },
  {
   "cell_type": "code",
   "execution_count": 39,
   "metadata": {},
   "outputs": [
    {
     "name": "stdout",
     "output_type": "stream",
     "text": [
      "<Response [200]>\n"
     ]
    }
   ],
   "source": [
    "if response.ok:\n",
    "    print(response)"
   ]
  },
  {
   "cell_type": "code",
   "execution_count": 40,
   "metadata": {},
   "outputs": [
    {
     "name": "stdout",
     "output_type": "stream",
     "text": [
      "310\n"
     ]
    }
   ],
   "source": [
    "if response.ok:\n",
    "    soup = BeautifulSoup(response.text, 'lxml')\n",
    "    \n",
    "    ## articles dans lesquels on retrouve les liens des spots :\n",
    "    articles = soup.findAll('article', {'class': 'unefalaise'})\n",
    "    ## on vérifie le nombre :\n",
    "    print(len(articles))"
   ]
  },
  {
   "cell_type": "code",
   "execution_count": 41,
   "metadata": {},
   "outputs": [],
   "source": [
    "if response.ok:\n",
    "    soup = BeautifulSoup(response.text, 'lxml')\n",
    "    \n",
    "    ## articles dans lesquels on retrouve les liens des spots :\n",
    "    articles = soup.findAll('article', {'class': 'unefalaise'})\n",
    "    \n",
    "    #for i in articles:\n",
    "    #    print(i)"
   ]
  },
  {
   "cell_type": "code",
   "execution_count": 42,
   "metadata": {},
   "outputs": [
    {
     "name": "stdout",
     "output_type": "stream",
     "text": [
      "['https://planetgrimpe.com/falaise/3-rivieres/', 'https://planetgrimpe.com/falaise/ablon/', 'https://planetgrimpe.com/falaise/actinidias/', 'https://planetgrimpe.com/falaise/ahuy/', 'https://planetgrimpe.com/falaise/aiguille-de-buis/', 'https://planetgrimpe.com/falaise/ailefroide-secteur-champignon/', 'https://planetgrimpe.com/falaise/ailefroide-secteur-dalle/', 'https://planetgrimpe.com/falaise/ailefroide-secteur-pave/', 'https://planetgrimpe.com/falaise/ailefroide-secteur-philemon/', 'https://planetgrimpe.com/falaise/ailefroide-secteur-pont/', 'https://planetgrimpe.com/falaise/ailefroide-secteur-reception/', 'https://planetgrimpe.com/falaise/ailefroide-secteur-riviere/', 'https://planetgrimpe.com/falaise/alaise/', 'https://planetgrimpe.com/falaise/anthon/', 'https://planetgrimpe.com/falaise/appy/', 'https://planetgrimpe.com/falaise/arc-de-cercle/', 'https://planetgrimpe.com/falaise/arcambal-casse-noisette/', 'https://planetgrimpe.com/falaise/arcenant/', 'https://planetgrimpe.com/falaise/arrayoulet/', 'https://planetgrimpe.com/falaise/arudy/', 'https://planetgrimpe.com/falaise/aulp-du-seuil/', 'https://planetgrimpe.com/falaise/baderne/', 'https://planetgrimpe.com/falaise/balazuc-les-barasses/', 'https://planetgrimpe.com/falaise/balme-etrange/', 'https://planetgrimpe.com/falaise/baou-de-laigle/', 'https://planetgrimpe.com/falaise/barbicaghja/', 'https://planetgrimpe.com/falaise/bauchet/', 'https://planetgrimpe.com/falaise/baumes-dames-beaumerousse/', 'https://planetgrimpe.com/falaise/baume-dames-quint/', 'https://planetgrimpe.com/falaise/sous-buen/', 'https://planetgrimpe.com/falaise/baume-plan-chatel/', 'https://planetgrimpe.com/falaise/baume-rousse-buis-les-baronnies/', 'https://planetgrimpe.com/falaise/baychon/', 'https://planetgrimpe.com/falaise/beaume-noir/', 'https://planetgrimpe.com/falaise/beaumiral/', 'https://planetgrimpe.com/falaise/beauvoir/', 'https://planetgrimpe.com/falaise/bellecombe-tarendol/', 'https://planetgrimpe.com/falaise/blocs-de-morsullaz/', 'https://planetgrimpe.com/falaise/blocs-du-saleve/', 'https://planetgrimpe.com/falaise/bodon/', 'https://planetgrimpe.com/falaise/boislaville/', 'https://planetgrimpe.com/falaise/bonascre/', 'https://planetgrimpe.com/falaise/bourdary-grotte-fees/', 'https://planetgrimpe.com/falaise/brochon/', 'https://planetgrimpe.com/falaise/buoux/', 'https://planetgrimpe.com/falaise/calames/', 'https://planetgrimpe.com/falaise/camp-romain/', 'https://planetgrimpe.com/falaise/carriere-de-brelivan/', 'https://planetgrimpe.com/falaise/casse-de-prelles/', 'https://planetgrimpe.com/falaise/castillon/', 'https://planetgrimpe.com/falaise/ceuse/', 'https://planetgrimpe.com/falaise/chabanne/', 'https://planetgrimpe.com/falaise/chaignay/', 'https://planetgrimpe.com/falaise/chamandrin/', 'https://planetgrimpe.com/falaise/chambolle/', 'https://planetgrimpe.com/falaise/chamtadu/', 'https://planetgrimpe.com/falaise/chapelle-saint-gras/', 'https://planetgrimpe.com/falaise/chat-gourmand/', 'https://planetgrimpe.com/falaise/chateau-du-roi/', 'https://planetgrimpe.com/falaise/chateauvert-vallon-sourn/', 'https://planetgrimpe.com/falaise/chatillon/', 'https://planetgrimpe.com/falaise/chavoul/', 'https://planetgrimpe.com/falaise/chez-roger/', 'https://planetgrimpe.com/falaise/claret/', 'https://planetgrimpe.com/falaise/clemont/', 'https://planetgrimpe.com/falaise/clue-de-plaisians/', 'https://planetgrimpe.com/falaise/col-dech/', 'https://planetgrimpe.com/falaise/col-de-saint-saturnin/', 'https://planetgrimpe.com/falaise/col-du-chat/', 'https://planetgrimpe.com/falaise/falaise-col-roux/', 'https://planetgrimpe.com/falaise/collias/', 'https://planetgrimpe.com/falaise/combe-de-lermitage/', 'https://planetgrimpe.com/falaise/comboire/', 'https://planetgrimpe.com/falaise/connelles/', 'https://planetgrimpe.com/falaise/corbieres/', 'https://planetgrimpe.com/falaise/cormatin/', 'https://planetgrimpe.com/falaise/cormot/', 'https://planetgrimpe.com/falaise/cote-court/', 'https://planetgrimpe.com/falaise/courpatas/', 'https://planetgrimpe.com/falaise/crussol-top-secret/', 'https://planetgrimpe.com/falaise/d-j-face/', 'https://planetgrimpe.com/falaise/dauphins/', 'https://planetgrimpe.com/falaise/dent-de-crolles/', 'https://planetgrimpe.com/falaise/desert-de-lecureuil/', 'https://planetgrimpe.com/falaise/dun-les-places-rocher-du-chien/', 'https://planetgrimpe.com/falaise/entraygues/', 'https://planetgrimpe.com/falaise/entreserres/', 'https://planetgrimpe.com/falaise/eson-pont-de-barret/', 'https://planetgrimpe.com/falaise/espace-comboire/', 'https://planetgrimpe.com/falaise/falaise-de-balugue/', 'https://planetgrimpe.com/falaise/falaise-de-la-puya/', 'https://planetgrimpe.com/falaise/fetid-beach/', 'https://planetgrimpe.com/falaise/falaise-1/', 'https://planetgrimpe.com/falaise/romeu-rocher-golf/', 'https://planetgrimpe.com/falaise/fontainebleau-95-2/', 'https://planetgrimpe.com/falaise/fontainebleau-gorges-du-houx/', 'https://planetgrimpe.com/falaise/fontainebleau-isatis/', 'https://planetgrimpe.com/falaise/fontainebleau-le-bas-cuvier/', 'https://planetgrimpe.com/falaise/fontainebleau-la-roche-aux-sabots/', 'https://planetgrimpe.com/falaise/fontainebleau-le-bas-cuvier-2/', 'https://planetgrimpe.com/falaise/fontainebleau-les-gorges-dapremont/', 'https://planetgrimpe.com/falaise/fontainebleau-petit-bois/', 'https://planetgrimpe.com/falaise/fontainebleau-rocher-canon/', 'https://planetgrimpe.com/falaise/fontainebleau-rocher-greau/', 'https://planetgrimpe.com/falaise/fontgarnide/', 'https://planetgrimpe.com/falaise/fort-de-mevouillon/', 'https://planetgrimpe.com/falaise/francardo/', 'https://planetgrimpe.com/falaise/frontenac-la-lirette/', 'https://planetgrimpe.com/falaise/geligny/', 'https://planetgrimpe.com/falaise/genat/', 'https://planetgrimpe.com/falaise/genos/', 'https://planetgrimpe.com/falaise/glesy/', 'https://planetgrimpe.com/falaise/gorges-tarn-amphitheatre/', 'https://planetgrimpe.com/falaise/gorges-tarn-calmez/', 'https://planetgrimpe.com/falaise/gorges-du-tarn-figues-au-cul/', 'https://planetgrimpe.com/falaise/gorges-du-tarn-loasif/', 'https://planetgrimpe.com/falaise/gorges-tarn-navire/', 'https://planetgrimpe.com/falaise/gorges-du-tarn-tennessee/', 'https://planetgrimpe.com/falaise/gorges-tarn-tresor-zebre/', 'https://planetgrimpe.com/falaise/grotte-des-branches/', 'https://planetgrimpe.com/falaise/hautepierre/', 'https://planetgrimpe.com/falaise/hourat/', 'https://planetgrimpe.com/falaise/i-curriali/', 'https://planetgrimpe.com/falaise/jeau/', 'https://planetgrimpe.com/falaise/junac/', 'https://planetgrimpe.com/falaise/kerlouan/', 'https://planetgrimpe.com/falaise/krapenfels-gimbelhof-loewenstaein/', 'https://planetgrimpe.com/falaise/krappenfels-lutzelbourg/', 'https://planetgrimpe.com/falaise/larselle/', 'https://planetgrimpe.com/falaise/lauberge-espagnole/', 'https://planetgrimpe.com/falaise/leau-vive/', 'https://planetgrimpe.com/falaise/lechappatoire/', 'https://planetgrimpe.com/falaise/lile-aux-pies/', 'https://planetgrimpe.com/falaise/lisole/', 'https://planetgrimpe.com/falaise/la-baleine/', 'https://planetgrimpe.com/falaise/balme-de-yenne/', 'https://planetgrimpe.com/falaise/la-barmaud/', 'https://planetgrimpe.com/falaise/la-bastille/', 'https://planetgrimpe.com/falaise/la-betta/', 'https://planetgrimpe.com/falaise/la-boissiere/', 'https://planetgrimpe.com/falaise/la-breme/', 'https://planetgrimpe.com/falaise/la-capelle/', 'https://planetgrimpe.com/falaise/la-combe-darveaux/', 'https://planetgrimpe.com/falaise/la-combe-obscure/', 'https://planetgrimpe.com/falaise/concession-faron-nord/', 'https://planetgrimpe.com/falaise/la-croix-des-tetes/', 'https://planetgrimpe.com/falaise/la-culaz/', 'https://planetgrimpe.com/falaise/la-flachere/', 'https://planetgrimpe.com/falaise/la-goulandiere/', 'https://planetgrimpe.com/falaise/la-grande-falaise-freissinieres/', 'https://planetgrimpe.com/falaise/la-grisiere/', 'https://planetgrimpe.com/falaise/la-justice-belfort/', 'https://planetgrimpe.com/falaise/la-payre/', 'https://planetgrimpe.com/falaise/la-pierre-du-quart-pierre-de-carre/', 'https://planetgrimpe.com/falaise/la-plage/', 'https://planetgrimpe.com/falaise/la-ramirole/', 'https://planetgrimpe.com/falaise/la-roche-de-murs/', 'https://planetgrimpe.com/falaise/roche-de-solutre/', 'https://planetgrimpe.com/falaise/la-roche-ronde/', 'https://planetgrimpe.com/falaise/la-roche-sur-le-buis/', 'https://planetgrimpe.com/falaise/la-roche-le-tunnel/', 'https://planetgrimpe.com/falaise/la-saume/', 'https://planetgrimpe.com/falaise/la-speleologue/', 'https://planetgrimpe.com/falaise/la-trouee/', 'https://planetgrimpe.com/falaise/le-biclop/', 'https://planetgrimpe.com/falaise/le-bourrinoire/', 'https://planetgrimpe.com/falaise/le-chateau/', 'https://planetgrimpe.com/falaise/le-cimai/', 'https://planetgrimpe.com/falaise/cirque-de-gens/', 'https://planetgrimpe.com/falaise/cirque-de-gens-2/', 'https://planetgrimpe.com/falaise/coup-de-sabre/', 'https://planetgrimpe.com/falaise/le-croe/', 'https://planetgrimpe.com/falaise/le-foron/', 'https://planetgrimpe.com/falaise/le-groseau/', 'https://planetgrimpe.com/falaise/le-jardin-dendieu/', 'https://planetgrimpe.com/falaise/le-kronthal/', 'https://planetgrimpe.com/falaise/le-langenfels/', 'https://planetgrimpe.com/falaise/le-luisset/', 'https://planetgrimpe.com/falaise/le-mas-doris/', 'https://planetgrimpe.com/falaise/le-mont-dol/', 'https://planetgrimpe.com/falaise/le-petit-desert/', 'https://planetgrimpe.com/falaise/le-plantier/', 'https://planetgrimpe.com/falaise/le-randouillet/', 'https://planetgrimpe.com/falaise/le-rif-doriol-2/', 'https://planetgrimpe.com/falaise/le-rimbau/', 'https://planetgrimpe.com/falaise/roc-a-steph/', 'https://planetgrimpe.com/falaise/le-rocher-qui-repond/', 'https://planetgrimpe.com/falaise/le-saussois/', 'https://planetgrimpe.com/falaise/le-suet/', 'https://planetgrimpe.com/falaise/le-thaurac/', 'https://planetgrimpe.com/falaise/le-trou-de-la-lune/', 'https://planetgrimpe.com/falaise/le-verger/', 'https://planetgrimpe.com/falaise/le-viel-audon/', 'https://planetgrimpe.com/falaise/les-ayes/', 'https://planetgrimpe.com/falaise/les-branches/', 'https://planetgrimpe.com/falaise/les-brieux/', 'https://planetgrimpe.com/falaise/les-cabanes/', 'https://planetgrimpe.com/falaise/les-communaux/', 'https://planetgrimpe.com/falaise/les-coteaux-de-fleuriais/', 'https://planetgrimpe.com/falaise/les-eaux-claires/', 'https://planetgrimpe.com/falaise/les-forges-du-diable/', 'https://planetgrimpe.com/falaise/les-gorges-de-la-dourbie-le-boffi/', 'https://planetgrimpe.com/falaise/gorges-loup-secteur-deverse/', 'https://planetgrimpe.com/falaise/les-gorges-du-verdon-hulk/', 'https://planetgrimpe.com/falaise/les-graniteurs/', 'https://planetgrimpe.com/falaise/les-grottes-du-loup/', 'https://planetgrimpe.com/falaise/les-herbez/', 'https://planetgrimpe.com/falaise/les-herbez-2/', 'https://planetgrimpe.com/falaise/les-iles/', 'https://planetgrimpe.com/falaise/les-jayeres/', 'https://planetgrimpe.com/falaise/les-lames/', 'https://planetgrimpe.com/falaise/les-rochers-du-parc-saussois/', 'https://planetgrimpe.com/falaise/les-saillants/', 'https://planetgrimpe.com/falaise/les-traverses/', 'https://planetgrimpe.com/falaise/les-vignettes/', 'https://planetgrimpe.com/falaise/les-vouillants/', 'https://planetgrimpe.com/falaise/limas/', 'https://planetgrimpe.com/falaise/lortet/', 'https://planetgrimpe.com/falaise/lumbin/', 'https://planetgrimpe.com/falaise/lumio/', 'https://planetgrimpe.com/falaise/malsaire/', 'https://planetgrimpe.com/falaise/mancy/', 'https://planetgrimpe.com/falaise/maupas/', 'https://planetgrimpe.com/falaise/mazet/', 'https://planetgrimpe.com/falaise/medonnet/', 'https://planetgrimpe.com/falaise/mollans-beaume-des-eyguiers/', 'https://planetgrimpe.com/falaise/mont-dauphin/', 'https://planetgrimpe.com/falaise/mont-germain/', 'https://planetgrimpe.com/falaise/mont-roc/', 'https://planetgrimpe.com/falaise/monte-san-angelo/', 'https://planetgrimpe.com/falaise/mouries/', 'https://planetgrimpe.com/falaise/moustarde/', 'https://planetgrimpe.com/falaise/narbonne/', 'https://planetgrimpe.com/falaise/niaux/', 'https://planetgrimpe.com/falaise/notre-dame-du-cros/', 'https://planetgrimpe.com/falaise/43897/', 'https://planetgrimpe.com/falaise/pelleret/', 'https://planetgrimpe.com/falaise/pelvoux-2/', 'https://planetgrimpe.com/falaise/pen-hir/', 'https://planetgrimpe.com/falaise/pic-saint-loup/', 'https://planetgrimpe.com/falaise/pierre-champ-bertin/', 'https://planetgrimpe.com/falaise/pierrot-beach/', 'https://planetgrimpe.com/falaise/pietralba/', 'https://planetgrimpe.com/falaise/pleysse/', 'https://planetgrimpe.com/falaise/pont-dauzon/', 'https://planetgrimpe.com/falaise/pont-despagne/', 'https://planetgrimpe.com/falaise/pont-de-vence/', 'https://planetgrimpe.com/falaise/pont-des-gets/', 'https://planetgrimpe.com/falaise/pont-saint-nicolas/', 'https://planetgrimpe.com/falaise/port-de-lers/', 'https://planetgrimpe.com/falaise/portu/', 'https://planetgrimpe.com/falaise/poussebou/', 'https://planetgrimpe.com/falaise/remigny/', 'https://planetgrimpe.com/falaise/roc-daude/', 'https://planetgrimpe.com/falaise/roc-de-foradade/', 'https://planetgrimpe.com/falaise/roc-de-sedour-secteur-paroi-principale-grande-voie/', 'https://planetgrimpe.com/falaise/roc-de-sedour-couennes/', 'https://planetgrimpe.com/falaise/roc-mercadal/', 'https://planetgrimpe.com/falaise/roche-brune/', 'https://planetgrimpe.com/falaise/roche-marie/', 'https://planetgrimpe.com/falaise/rocher-baron/', 'https://planetgrimpe.com/falaise/rocher-de-balcere/', 'https://planetgrimpe.com/falaise/rocher-de-planes/', 'https://planetgrimpe.com/falaise/rocher-des-amoureux/', 'https://planetgrimpe.com/falaise/rocher-des-aures/', 'https://planetgrimpe.com/falaise/rocher-des-bouillouses/', 'https://planetgrimpe.com/falaise/rocher-des-brumes/', 'https://planetgrimpe.com/falaise/rocher-gafouille/', 'https://planetgrimpe.com/falaise/rochers-du-mollards/', 'https://planetgrimpe.com/falaise/roches-de-sainte-catherine-vieux-chateau/', 'https://planetgrimpe.com/falaise/romeyer/', 'https://planetgrimpe.com/falaise/rue-des-masques/', 'https://planetgrimpe.com/falaise/rurey/', 'https://planetgrimpe.com/falaise/russan-2/', 'https://planetgrimpe.com/falaise/saffres/', 'https://planetgrimpe.com/falaise/saint-ange/', 'https://planetgrimpe.com/falaise/saint-crepin/', 'https://planetgrimpe.com/falaise/saint-egreve/', 'https://planetgrimpe.com/falaise/saint-julien/', 'https://planetgrimpe.com/falaise/saint-leger-ventoux/', 'https://planetgrimpe.com/falaise/saint-paul-de-varces/', 'https://planetgrimpe.com/falaise/saint-bauzille-de-montmel/', 'https://planetgrimpe.com/falaise/saint-pierre-dels-forcats/', 'https://planetgrimpe.com/falaise/sainte-croix/', 'https://planetgrimpe.com/falaise/sainte-victoire-four-solaire/', 'https://planetgrimpe.com/falaise/seynes/', 'https://planetgrimpe.com/falaise/sibada/', 'https://planetgrimpe.com/falaise/surgy/', 'https://planetgrimpe.com/falaise/syratu/', 'https://planetgrimpe.com/falaise/terre-sacree/', 'https://planetgrimpe.com/falaise/tina-dalle/', 'https://planetgrimpe.com/falaise/tour-saint-martin/', 'https://planetgrimpe.com/falaise/trassouet/', 'https://planetgrimpe.com/falaise/trou-des-fees/', 'https://planetgrimpe.com/falaise/troubat/', 'https://planetgrimpe.com/falaise/troubat-la-carriere/', 'https://planetgrimpe.com/falaise/ubrieu-lou-passo/', 'https://planetgrimpe.com/falaise/valbelle/', 'https://planetgrimpe.com/falaise/valcroissant/', 'https://planetgrimpe.com/falaise/vall-de-quers/', 'https://planetgrimpe.com/falaise/ventavon/', 'https://planetgrimpe.com/falaise/vergisson/', 'https://planetgrimpe.com/falaise/verosvres/', 'https://planetgrimpe.com/falaise/volx/', 'https://planetgrimpe.com/falaise/voreppe/', 'https://planetgrimpe.com/falaise/trou-des-fees/', 'https://planetgrimpe.com/falaise/combe-de-lermitage/', 'https://planetgrimpe.com/falaise/la-montagne/', 'https://planetgrimpe.com/falaise/le-langenfels/', 'https://planetgrimpe.com/falaise/la-pierre-du-quart-pierre-de-carre/']\n"
     ]
    }
   ],
   "source": [
    "# on veut récupérer ce qui se trouve dans href :\n",
    "if response.ok:\n",
    "    \n",
    "    # tableau vide pour accueillir les liens :\n",
    "    links = []\n",
    "    \n",
    "    soup = BeautifulSoup(response.text, 'lxml')\n",
    "    articles = soup.findAll('article', {'class': 'unefalaise'})\n",
    "    for i in articles:\n",
    "        a = i.find('a')\n",
    "        \n",
    "        # on récupère ce qui se trouve dans href\n",
    "        link = a['href']\n",
    "        links.append(link)\n",
    "    print(links)"
   ]
  },
  {
   "cell_type": "code",
   "execution_count": 43,
   "metadata": {},
   "outputs": [],
   "source": [
    "import time"
   ]
  },
  {
   "cell_type": "code",
   "execution_count": 44,
   "metadata": {},
   "outputs": [
    {
     "name": "stdout",
     "output_type": "stream",
     "text": [
      "310\n"
     ]
    }
   ],
   "source": [
    "print(len(links))"
   ]
  },
  {
   "cell_type": "code",
   "execution_count": 46,
   "metadata": {},
   "outputs": [],
   "source": [
    "# on va stocker ça dans un fichier text\n",
    "\n",
    "with open('urlsPlanetGrimpe.txt', 'w') as file:\n",
    "    for link in links:\n",
    "        file.write(link + '\\n')"
   ]
  },
  {
   "cell_type": "code",
   "execution_count": 47,
   "metadata": {},
   "outputs": [],
   "source": [
    "# dernière étape :\n",
    "\n",
    "with open('urlsPlanetGrimpe.txt', 'r') as intf:\n",
    "    with open('spotsPlanetGrimpe.csv', 'w') as outf:\n",
    "        outf.write('spot; pays; region; departement; ville; hauteur; nb_lignes; meileures_saisons; cotations; approche; orientation; hauteur_min; hauteur_max; hauteur_moyenne; type; latitude; longitude\\n')\n",
    "        for row in intf:\n",
    "            url = row.strip() #### strip pour enlever les retours à la ligne dans les urls.\n",
    "            response = requests.get(url)\n",
    "            if response.ok:\n",
    "                soup = BeautifulSoup(response.text, 'lxml')\n",
    "\n",
    "                spot = soup.find('div', {'id': 'single_top'}).find('h1')\n",
    "\n",
    "                localisation = soup.find('div', {'id': 'single_top'}).findAll('li')\n",
    "\n",
    "                longueurLocalisation = len(localisation)\n",
    "\n",
    "                if longueurLocalisation == 0:\n",
    "                    pays = \" \"\n",
    "                    region = \" \"\n",
    "                    departement = \" \"\n",
    "                    ville = \" \"\n",
    "                elif longueurLocalisation == 1:\n",
    "                    pays = localisation[0].text\n",
    "                    region = \" \"\n",
    "                    departement = \" \"\n",
    "                    ville = \" \"\n",
    "                elif longueurLocalisation == 2:\n",
    "                    pays = localisation[0].text\n",
    "                    region = \" \"\n",
    "                    departement = \" \"\n",
    "                    ville = localisation[1].text\n",
    "                elif longueurLocalisation == 3:\n",
    "                    pays = localisation[0].text\n",
    "                    region = localisation[1].text\n",
    "                    departement = \" \"\n",
    "                    ville = localisation[2].text\n",
    "                elif longueurLocalisation == 4:\n",
    "                    pays = localisation[0].text\n",
    "                    region = localisation[1].text\n",
    "                    departement = localisation[2].text\n",
    "                    ville = localisation[3].text\n",
    "\n",
    "                infosPrincipalesSpot = soup.find('div', {'id': 'single_top'}).find('div', {'class': 'single_top_infos'}).findAll('div', {'class': 'single_top_infosbloc'})\n",
    "\n",
    "                longueurInfosPrincipales = len(infosPrincipalesSpot)\n",
    "\n",
    "                if longueurInfosPrincipales == 5:\n",
    "                    hauteur = infosPrincipalesSpot[0].text\n",
    "                    lignes = infosPrincipalesSpot[1].text\n",
    "                    meilleuresSaisons = infosPrincipalesSpot[2].text\n",
    "                    cotations = infosPrincipalesSpot[3].text\n",
    "                    approche = infosPrincipalesSpot[4].text\n",
    "                elif longueurInfosPrincipales == 6:\n",
    "                    hauteur = infosPrincipalesSpot[1].text\n",
    "                    lignes = infosPrincipalesSpot[2].text\n",
    "                    meilleuresSaisons = infosPrincipalesSpot[3].text\n",
    "                    cotations = infosPrincipalesSpot[4].text\n",
    "                    approche = infosPrincipalesSpot[5].text\n",
    "\n",
    "                infosSupp = soup.find('div', {'id': 'page_ctn'}).find('ul').findAll('li')     \n",
    "                orientation = infosSupp[1].text\n",
    "                hauteurMin = infosSupp[3].text\n",
    "                hauteurMax = infosSupp[4].text\n",
    "                hauteurMoyenne = infosSupp[5].text\n",
    "                discipline = infosSupp[6].text\n",
    "\n",
    "                coordonnees = soup.find('div', {'class': 'map_legende'}).find('span')\n",
    "                coord = coordonnees.text\n",
    "                coordSplit = coord.split('-')\n",
    "\n",
    "                longueurCoordSplit = len(coordSplit)\n",
    "\n",
    "                ## longitudes et latitudes positives :\n",
    "                if longueurCoordSplit == 3:\n",
    "                    coordSplit0 = coordSplit[0]\n",
    "                    coordSplit1 = coordSplit[1]\n",
    "                    latitude = coordSplit0[11:20]\n",
    "                    longitude = coordSplit1[1:9]\n",
    "\n",
    "                ## longitudes négatives, latitudes positives :\n",
    "                elif longueurCoordSplit == 5:\n",
    "                    coordSplit0 = coordSplit[0]\n",
    "                    coordSplit2 = coordSplit[2]\n",
    "                    latitude = coordSplit0[11:20]\n",
    "                    longitude = \"-\"+coordSplit2[0:9]\n",
    "\n",
    "                outf.write(spot.text +'; '\n",
    "                           +pays+'; '\n",
    "                           +region+'; '\n",
    "                           +departement+'; '\n",
    "                           +ville+'; '\n",
    "                           +hauteur[:-7]+'; '\n",
    "                           +lignes[:-6]+'; '\n",
    "                           +meilleuresSaisons[:-18]+'; '\n",
    "                           +cotations[:-9]+'; '\n",
    "                           +approche[:-29]+'; '\n",
    "                           +orientation[22:]+'; '\n",
    "                           +hauteurMin[16:]+'; '\n",
    "                           +hauteurMax[16:]+'; '\n",
    "                           +hauteurMoyenne[16:]+'; '\n",
    "                           +discipline[16:]+'; '\n",
    "                           +latitude+'; '\n",
    "                           +longitude+'\\n')\n",
    "            time.sleep(3)"
   ]
  },
  {
   "cell_type": "code",
   "execution_count": null,
   "metadata": {},
   "outputs": [],
   "source": []
  }
 ],
 "metadata": {
  "kernelspec": {
   "display_name": "Python 3",
   "language": "python",
   "name": "python3"
  },
  "language_info": {
   "codemirror_mode": {
    "name": "ipython",
    "version": 3
   },
   "file_extension": ".py",
   "mimetype": "text/x-python",
   "name": "python",
   "nbconvert_exporter": "python",
   "pygments_lexer": "ipython3",
   "version": "3.8.3"
  }
 },
 "nbformat": 4,
 "nbformat_minor": 4
}
